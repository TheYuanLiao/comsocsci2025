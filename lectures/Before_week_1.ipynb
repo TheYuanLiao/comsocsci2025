{
 "cells": [
  {
   "cell_type": "markdown",
   "metadata": {},
   "source": [
    "# Overview\n",
    "\n",
    "Welcome to the _Computational Social Science_ course. This class probably works a little differently from other classes you've taken. To avoid any confusion, I've created this notebook to explain how everything works.\n",
    "\n",
    "Each week of this class is a Jupyter notebook like this one. **_In order to successfully follow the class, you simply start reading from the top_**, following the instructions. As you read, you will encounter three things that should cause you to take break from reading or sometimes leave the page for a little bit:\n",
    "\n",
    "* Instructions to go **check out a video lecture**.\n",
    "* Instructions to **read something** (I don't use a single textbook, so will make sure to link to the relevant text).\n",
    "* Instructions to **solve a few exercises**. You should solve the exercises on your own, but work on and discuss the problems as part of a 3 person group. Exercises should be carried out within a Jupyter notebook (explained below). The exercises are the most important part of the class. First, it is through the exercises that you will learn the course material, and, secondly, the exercises lay the foundations for the two mandatory course assignments (due after week 4 and week 8). "
   ]
  },
  {
   "cell_type": "markdown",
   "metadata": {},
   "source": [
    "# How we do things"
   ]
  },
  {
   "cell_type": "markdown",
   "metadata": {},
   "source": [
    "> **_Video lecture_**: Start by watching the \"_How we do things_\" video below to learn the pedagogical aspects of how the class works. "
   ]
  },
  {
   "cell_type": "code",
   "execution_count": 9,
   "metadata": {},
   "outputs": [
    {
     "data": {
      "image/jpeg": "[encoded data removed]",
      "text/html": [
       "\n",
       "        <iframe\n",
       "            width=\"800\"\n",
       "            height=\"450\"\n",
       "            src=\"https://www.youtube.com/embed/W5dqAukzjDc\"\n",
       "            frameborder=\"0\"\n",
       "            allowfullscreen\n",
       "            \n",
       "        ></iframe>\n",
       "        "
      ],
      "text/plain": [
       "<IPython.lib.display.YouTubeVideo at 0x7fa72805fd90>"
      ]
     },
     "execution_count": 9,
     "metadata": {},
     "output_type": "execute_result"
    }
   ],
   "source": [
    "from IPython.display import YouTubeVideo\n",
    "YouTubeVideo(\"W5dqAukzjDc\",width=800, height=450)"
   ]
  },
  {
   "cell_type": "markdown",
   "metadata": {},
   "source": [
    "# Introductions\n",
    "\n",
    "Let's now go to introductions. \n",
    "In the video below you will find out a little bit about me, the path that led me to study computational social science and what my research is about. "
   ]
  },
  {
   "cell_type": "code",
   "execution_count": 10,
   "metadata": {},
   "outputs": [
    {
     "data": {
      "text/html": [
       "\n",
       "        <iframe\n",
       "            width=\"800\"\n",
       "            height=\"450\"\n",
       "            src=\"https://www.youtube.com/embed/J6_f-LDLgyY\"\n",
       "            frameborder=\"0\"\n",
       "            allowfullscreen\n",
       "            \n",
       "        ></iframe>\n",
       "        "
      ],
      "text/plain": [
       "<IPython.lib.display.YouTubeVideo at 0x7fa72805f100>"
      ]
     },
     "execution_count": 10,
     "metadata": {},
     "output_type": "execute_result"
    }
   ],
   "source": [
    "YouTubeVideo(\"J6_f-LDLgyY\",width=800, height=450)"
   ]
  },
  {
   "cell_type": "markdown",
   "metadata": {},
   "source": [
    "**Optional reading material** \n",
    "\n",
    "If you are curious about Complex Systems Science (one of the topics I discussed in the video above), you can come and ask me and/or have a look at these websites:\n",
    "    \n",
    "[Complexity Explained](https://complexityexplained.github.io/) A webpage offering a very concise explanation of the key concepts in complex systems science. As a bonus, the explanations come with powerful interactive visualizations. The website is developed by prominent researchers in Complex Systems science.   \n",
    "\n",
    "[Complexity Explorer](https://www.santafe.edu/what-is-complex-systems-science) This is an awesome platform developed by one of the most important institutions in the field. It offers courses, tutorials and lectures on complex systems science. "
   ]
  },
  {
   "cell_type": "markdown",
   "metadata": {},
   "source": [
    "# More introductions\n"
   ]
  },
  {
   "cell_type": "markdown",
   "metadata": {},
   "source": [
    "Now it's your turn! I would like to know a little bit about your expectations for this class and level of previous knowledge around some of the topics and technical aspects that we will work on throughout this class. \n",
    "\n",
    "**Please go to DTU Learn and fill the [self-assessment and expectations survey](https://learn.inside.dtu.dk/d2l/lms/survey/user/attempt/survey_start_frame.d2l?si=26251&ou=187754).**\n",
    "\n",
    "The survey is completely anonymous.  It will just be a way for me to have an idea of who you are as a group. \n",
    "    \n",
    "    \n",
    "    "
   ]
  }
 ],
 "metadata": {
  "kernelspec": {
   "display_name": "Python 3 (ipykernel)",
   "language": "python",
   "name": "python3"
  },
  "language_info": {
   "codemirror_mode": {
    "name": "ipython",
    "version": 3
   },
   "file_extension": ".py",
   "mimetype": "text/x-python",
   "name": "python",
   "nbconvert_exporter": "python",
   "pygments_lexer": "ipython3",
   "version": "3.9.7"
  }
 },
 "nbformat": 4,
 "nbformat_minor": 1
}
